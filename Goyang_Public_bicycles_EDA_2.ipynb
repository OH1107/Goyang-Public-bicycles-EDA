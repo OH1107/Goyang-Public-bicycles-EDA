{
  "nbformat": 4,
  "nbformat_minor": 0,
  "metadata": {
    "colab": {
      "name": "Goyang_Public_bicycles_EDA_2",
      "provenance": [],
      "authorship_tag": "ABX9TyO4Hh/Nn0OJ+EShV4qqm6aQ",
      "include_colab_link": true
    },
    "kernelspec": {
      "name": "python3",
      "display_name": "Python 3"
    }
  },
  "cells": [
    {
      "cell_type": "markdown",
      "metadata": {
        "id": "view-in-github",
        "colab_type": "text"
      },
      "source": [
        "<a href=\"https://colab.research.google.com/github/OH1107/Goyang-Public-bicycles-EDA/blob/master/Goyang_Public_bicycles_EDA_2.ipynb\" target=\"_parent\"><img src=\"https://colab.research.google.com/assets/colab-badge.svg\" alt=\"Open In Colab\"/></a>"
      ]
    },
    {
      "cell_type": "markdown",
      "metadata": {
        "id": "ojGGUQLcH30O",
        "colab_type": "text"
      },
      "source": [
        "# 준비"
      ]
    },
    {
      "cell_type": "markdown",
      "metadata": {
        "id": "_LcKPNgAH6Rh",
        "colab_type": "text"
      },
      "source": [
        "## (1) 구글 드라이브 연동"
      ]
    },
    {
      "cell_type": "code",
      "metadata": {
        "id": "NYBZVI0RHxW9",
        "colab_type": "code",
        "colab": {
          "base_uri": "https://localhost:8080/",
          "height": 125
        },
        "outputId": "da724b6b-efee-41b6-c1d8-1bf9afc4add6"
      },
      "source": [
        "from google.colab import drive\n",
        "drive.mount('/content/gdrive')"
      ],
      "execution_count": 1,
      "outputs": [
        {
          "output_type": "stream",
          "text": [
            "Go to this URL in a browser: https://accounts.google.com/o/oauth2/auth?client_id=947318989803-6bn6qk8qdgf4n4g3pfee6491hc0brc4i.apps.googleusercontent.com&redirect_uri=urn%3aietf%3awg%3aoauth%3a2.0%3aoob&scope=email%20https%3a%2f%2fwww.googleapis.com%2fauth%2fdocs.test%20https%3a%2f%2fwww.googleapis.com%2fauth%2fdrive%20https%3a%2f%2fwww.googleapis.com%2fauth%2fdrive.photos.readonly%20https%3a%2f%2fwww.googleapis.com%2fauth%2fpeopleapi.readonly&response_type=code\n",
            "\n",
            "Enter your authorization code:\n",
            "··········\n",
            "Mounted at /content/gdrive\n"
          ],
          "name": "stdout"
        }
      ]
    },
    {
      "cell_type": "code",
      "metadata": {
        "id": "5Za8M3tVHyHj",
        "colab_type": "code",
        "colab": {}
      },
      "source": [
        "# import join used to join ROOT path and MY_GOOGLE_DRIVE_PATH\n",
        "from os.path import join  \n",
        "\n",
        "# path to your project on Google Drive\n",
        "MY_GOOGLE_DRIVE_PATH = '/content/gdrive/My Drive/Colab Notebooks/고양시/data'\n",
        "PROJECT_PATH = join('/content/gdrive', MY_GOOGLE_DRIVE_PATH)"
      ],
      "execution_count": 2,
      "outputs": []
    },
    {
      "cell_type": "code",
      "metadata": {
        "id": "azZ14rKDIesi",
        "colab_type": "code",
        "colab": {
          "base_uri": "https://localhost:8080/",
          "height": 372
        },
        "outputId": "112644f6-1c63-4650-fd1d-71a7214d4176"
      },
      "source": [
        "%cd \"{PROJECT_PATH}\"\n",
        "!ls"
      ],
      "execution_count": 3,
      "outputs": [
        {
          "output_type": "stream",
          "text": [
            "/content/gdrive/My Drive/Colab Notebooks/고양시/data\n",
            " 01.운영이력.csv\t\t\t     20.고양시_버스정류소.csv\n",
            " 02.자전거스테이션.csv\t\t\t     21.버스_정류장별_승하차_정보.csv\n",
            " 03.꽃박람회일정.csv\t\t\t     22.주차장정보.csv\n",
            " 04.KINTEX행사일정.csv\t\t\t     23.고양시덕양구_DEM.img\n",
            " 05.기상정보.csv\t\t\t     24.고양시일산동구_DEM.img\n",
            "'06.인구(거주)분포도(100M_X_100M).geojson'   25.고양시일산서구_DEM.img\n",
            " 07.인구통계.csv\t\t\t    '26.고양시 공연장 박물관 정보.csv'\n",
            "'08.행정경계(시군구).geojson'\t\t    '27.고양시 체육시설 현황 정보.csv'\n",
            "'09.행정경계(읍면동).geojson'\t\t     28.코드정의서.xlsx\n",
            "'10.도시계획(공간시설).geojson'\t\t    '29.지하철 역별 이용객수.csv'\n",
            "'11.도시계획(공공문화체육시설).geojson'      30.고양시_덕양구_고도.geojson\n",
            "'12.도시계획(교통시설).geojson'\t\t     31.고양시_일산동구_고도.geojson\n",
            "'13.용도지역지구(습지보호지역).geojson'      32.고양시_일산서구_고도.geojson\n",
            " 14.고양시_지적도.geojson\t\t     33.고양시_인도.geojson\n",
            " 15.도로명주소_건물.geojson\t\t    '34.행정경계(행정동기준).geojson'\n",
            " 16.도로명주소_도로.geojson\t\t     csvsample.csv\n",
            "'17.일반건물_분포도(100M_X_100M).geojson'    geosample.geojson\n",
            " 18.행사장_공간정보.csv\t\t\t     updated_df_7.csv\n",
            " 19.전철역_공간정보.csv\n"
          ],
          "name": "stdout"
        }
      ]
    },
    {
      "cell_type": "markdown",
      "metadata": {
        "id": "n0JfVe6aIgsK",
        "colab_type": "text"
      },
      "source": [
        "## (2) 패키지 호출"
      ]
    },
    {
      "cell_type": "code",
      "metadata": {
        "id": "jZUceFjCIf-z",
        "colab_type": "code",
        "colab": {
          "base_uri": "https://localhost:8080/",
          "height": 621
        },
        "outputId": "18e88ea5-0990-4945-c973-1b6f3dbe392a"
      },
      "source": [
        "!pip install geopandas\n",
        "!pip install geojson\n",
        "!pip install haversine     # 좌표간 거리 구하기\n",
        "!pip install tqdm"
      ],
      "execution_count": 4,
      "outputs": [
        {
          "output_type": "stream",
          "text": [
            "Collecting geopandas\n",
            "\u001b[?25l  Downloading https://files.pythonhosted.org/packages/f7/a4/e66aafbefcbb717813bf3a355c8c4fc3ed04ea1dd7feb2920f2f4f868921/geopandas-0.8.1-py2.py3-none-any.whl (962kB)\n",
            "\u001b[K     |████████████████████████████████| 972kB 8.0MB/s \n",
            "\u001b[?25hCollecting fiona\n",
            "\u001b[?25l  Downloading https://files.pythonhosted.org/packages/ec/20/4e63bc5c6e62df889297b382c3ccd4a7a488b00946aaaf81a118158c6f09/Fiona-1.8.13.post1-cp36-cp36m-manylinux1_x86_64.whl (14.7MB)\n",
            "\u001b[K     |████████████████████████████████| 14.7MB 243kB/s \n",
            "\u001b[?25hCollecting pyproj>=2.2.0\n",
            "\u001b[?25l  Downloading https://files.pythonhosted.org/packages/e5/c3/071e080230ac4b6c64f1a2e2f9161c9737a2bc7b683d2c90b024825000c0/pyproj-2.6.1.post1-cp36-cp36m-manylinux2010_x86_64.whl (10.9MB)\n",
            "\u001b[K     |████████████████████████████████| 10.9MB 53.4MB/s \n",
            "\u001b[?25hRequirement already satisfied: shapely in /usr/local/lib/python3.6/dist-packages (from geopandas) (1.7.1)\n",
            "Requirement already satisfied: pandas>=0.23.0 in /usr/local/lib/python3.6/dist-packages (from geopandas) (1.0.5)\n",
            "Requirement already satisfied: six>=1.7 in /usr/local/lib/python3.6/dist-packages (from fiona->geopandas) (1.15.0)\n",
            "Collecting cligj>=0.5\n",
            "  Downloading https://files.pythonhosted.org/packages/e4/be/30a58b4b0733850280d01f8bd132591b4668ed5c7046761098d665ac2174/cligj-0.5.0-py3-none-any.whl\n",
            "Requirement already satisfied: click<8,>=4.0 in /usr/local/lib/python3.6/dist-packages (from fiona->geopandas) (7.1.2)\n",
            "Requirement already satisfied: attrs>=17 in /usr/local/lib/python3.6/dist-packages (from fiona->geopandas) (20.1.0)\n",
            "Collecting click-plugins>=1.0\n",
            "  Downloading https://files.pythonhosted.org/packages/e9/da/824b92d9942f4e472702488857914bdd50f73021efea15b4cad9aca8ecef/click_plugins-1.1.1-py2.py3-none-any.whl\n",
            "Collecting munch\n",
            "  Downloading https://files.pythonhosted.org/packages/cc/ab/85d8da5c9a45e072301beb37ad7f833cd344e04c817d97e0cc75681d248f/munch-2.5.0-py2.py3-none-any.whl\n",
            "Requirement already satisfied: python-dateutil>=2.6.1 in /usr/local/lib/python3.6/dist-packages (from pandas>=0.23.0->geopandas) (2.8.1)\n",
            "Requirement already satisfied: numpy>=1.13.3 in /usr/local/lib/python3.6/dist-packages (from pandas>=0.23.0->geopandas) (1.18.5)\n",
            "Requirement already satisfied: pytz>=2017.2 in /usr/local/lib/python3.6/dist-packages (from pandas>=0.23.0->geopandas) (2018.9)\n",
            "Installing collected packages: cligj, click-plugins, munch, fiona, pyproj, geopandas\n",
            "Successfully installed click-plugins-1.1.1 cligj-0.5.0 fiona-1.8.13.post1 geopandas-0.8.1 munch-2.5.0 pyproj-2.6.1.post1\n",
            "Collecting geojson\n",
            "  Downloading https://files.pythonhosted.org/packages/e4/8d/9e28e9af95739e6d2d2f8d4bef0b3432da40b7c3588fbad4298c1be09e48/geojson-2.5.0-py2.py3-none-any.whl\n",
            "Installing collected packages: geojson\n",
            "Successfully installed geojson-2.5.0\n",
            "Collecting haversine\n",
            "  Downloading https://files.pythonhosted.org/packages/72/8e/6df8b563dd6b2961a36cd740b34c00b89142f1b97d92092c133379b2973f/haversine-2.2.0-py2.py3-none-any.whl\n",
            "Installing collected packages: haversine\n",
            "Successfully installed haversine-2.2.0\n",
            "Requirement already satisfied: tqdm in /usr/local/lib/python3.6/dist-packages (4.41.1)\n"
          ],
          "name": "stdout"
        }
      ]
    },
    {
      "cell_type": "code",
      "metadata": {
        "id": "AdArNNX1Ikw0",
        "colab_type": "code",
        "colab": {
          "base_uri": "https://localhost:8080/",
          "height": 52
        },
        "outputId": "b6785f48-fe61-42a1-a11b-3cc0fcf6c48d"
      },
      "source": [
        "import json\n",
        "import pandas as pd\n",
        "import numpy as np\n",
        "import geojson\n",
        "from haversine import haversine\n",
        "import matplotlib.pyplot as plt\n",
        "import seaborn as sns\n",
        "import folium\n",
        "from folium import plugins\n",
        "import missingno as mnso\n",
        "from shapely.geometry import shape, GeometryCollection, Point\n",
        "import geopandas as gpd\n",
        "import missingno as msno\n",
        "import warnings\n",
        "warnings.filterwarnings('ignore')\n",
        "\n",
        "plt.rcParams['axes.unicode_minus'] = False\n",
        "plt.rcParams[\"font.family\"] = 'NanumGothic'"
      ],
      "execution_count": 5,
      "outputs": [
        {
          "output_type": "stream",
          "text": [
            "/usr/local/lib/python3.6/dist-packages/statsmodels/tools/_testing.py:19: FutureWarning: pandas.util.testing is deprecated. Use the functions in the public API at pandas.testing instead.\n",
            "  import pandas.util.testing as tm\n"
          ],
          "name": "stderr"
        }
      ]
    },
    {
      "cell_type": "code",
      "metadata": {
        "id": "FN6-SeO0InGG",
        "colab_type": "code",
        "colab": {}
      },
      "source": [
        "import matplotlib.font_manager as fm\n",
        "from pandas.plotting import register_matplotlib_converters\n",
        "import matplotlib as mpl\n",
        "\n",
        "fontpath = '/usr/share/fonts/truetype/nanum/NanumGothic.ttf'\n",
        "\n",
        "font = fm.FontProperties(fname=fontpath, size=9)\n",
        "plt.rc('font', family='NanumBarunGothic') \n",
        "plt.rcParams[\"figure.figsize\"] = (20, 10)\n",
        "register_matplotlib_converters()\n",
        "#mpl.font_manager._rebuild()\n",
        "mpl.pyplot.rc('font', family='NanumGothic')\n",
        "#fm._rebuild()"
      ],
      "execution_count": 6,
      "outputs": []
    },
    {
      "cell_type": "code",
      "metadata": {
        "id": "LGgJCcGkIprp",
        "colab_type": "code",
        "colab": {
          "base_uri": "https://localhost:8080/",
          "height": 721
        },
        "outputId": "b2f2d7e7-5dc8-441d-9bb4-3fc1b0fa39f1"
      },
      "source": [
        "!sudo apt-get install -y fonts-nanum\n",
        "!sudo fc-cache -fv\n",
        "!rm ~/.cache/matplotlib -rf\n",
        "# matplotlib 폰트를 Nanum 폰트로 지정\n",
        "plt.rc('font', family='NanumGothic') "
      ],
      "execution_count": 7,
      "outputs": [
        {
          "output_type": "stream",
          "text": [
            "Reading package lists... Done\n",
            "Building dependency tree       \n",
            "Reading state information... Done\n",
            "The following package was automatically installed and is no longer required:\n",
            "  libnvidia-common-440\n",
            "Use 'sudo apt autoremove' to remove it.\n",
            "The following NEW packages will be installed:\n",
            "  fonts-nanum\n",
            "0 upgraded, 1 newly installed, 0 to remove and 39 not upgraded.\n",
            "Need to get 9,604 kB of archives.\n",
            "After this operation, 29.5 MB of additional disk space will be used.\n",
            "Get:1 http://archive.ubuntu.com/ubuntu bionic/universe amd64 fonts-nanum all 20170925-1 [9,604 kB]\n",
            "Fetched 9,604 kB in 0s (47.4 MB/s)\n",
            "debconf: unable to initialize frontend: Dialog\n",
            "debconf: (No usable dialog-like program is installed, so the dialog based frontend cannot be used. at /usr/share/perl5/Debconf/FrontEnd/Dialog.pm line 76, <> line 1.)\n",
            "debconf: falling back to frontend: Readline\n",
            "debconf: unable to initialize frontend: Readline\n",
            "debconf: (This frontend requires a controlling tty.)\n",
            "debconf: falling back to frontend: Teletype\n",
            "dpkg-preconfigure: unable to re-open stdin: \n",
            "Selecting previously unselected package fonts-nanum.\n",
            "(Reading database ... 144579 files and directories currently installed.)\n",
            "Preparing to unpack .../fonts-nanum_20170925-1_all.deb ...\n",
            "Unpacking fonts-nanum (20170925-1) ...\n",
            "Setting up fonts-nanum (20170925-1) ...\n",
            "Processing triggers for fontconfig (2.12.6-0ubuntu2) ...\n",
            "/usr/share/fonts: caching, new cache contents: 0 fonts, 1 dirs\n",
            "/usr/share/fonts/truetype: caching, new cache contents: 0 fonts, 3 dirs\n",
            "/usr/share/fonts/truetype/humor-sans: caching, new cache contents: 1 fonts, 0 dirs\n",
            "/usr/share/fonts/truetype/liberation: caching, new cache contents: 16 fonts, 0 dirs\n",
            "/usr/share/fonts/truetype/nanum: caching, new cache contents: 10 fonts, 0 dirs\n",
            "/usr/local/share/fonts: caching, new cache contents: 0 fonts, 0 dirs\n",
            "/root/.local/share/fonts: skipping, no such directory\n",
            "/root/.fonts: skipping, no such directory\n",
            "/var/cache/fontconfig: cleaning cache directory\n",
            "/root/.cache/fontconfig: not cleaning non-existent cache directory\n",
            "/root/.fontconfig: not cleaning non-existent cache directory\n",
            "fc-cache: succeeded\n"
          ],
          "name": "stdout"
        }
      ]
    },
    {
      "cell_type": "markdown",
      "metadata": {
        "id": "th4ZtrnxI-Qa",
        "colab_type": "text"
      },
      "source": [
        "## (6) 피프틴 사용량"
      ]
    },
    {
      "cell_type": "code",
      "metadata": {
        "id": "wNjoZENyI6LV",
        "colab_type": "code",
        "colab": {}
      },
      "source": [
        "df_1 = pd.read_csv('01.운영이력.csv')"
      ],
      "execution_count": 8,
      "outputs": []
    },
    {
      "cell_type": "markdown",
      "metadata": {
        "id": "WVzKsa_WgaqS",
        "colab_type": "text"
      },
      "source": [
        "- 데이터 정의서\n",
        "  + LEAS_NO : 대여번호\n",
        "  + LEAS_DATE : 대여 시간\n",
        "  + LEAS_STATION : 대여 스테이션 번호\n",
        "  + LEAS_DEF_NO : 대여 거치대 번호\n",
        "  + RTN_DATE : 반납 시간\n",
        "  + RTN_STATION : 반납 스테이션 번호\n",
        "  + RTN_DEF_NO : 반납 거치대 번호\n",
        "  + RTN_PROCESS : 관제반납구분값\n",
        "    + (01: 관제반납 / 02: 관리자반납 / 03: 관리자반출 / 04: 타 사용자 반납 / 05: 다른 사용자 반출)\n",
        "  + TRNV_QTY : 추정 이동 거리(m)\n",
        "  + MEMB_DIV : 회원 구분(비회원은 99이며 나머지는 정회원)\n",
        "  + MEMB_NO : 회원 번호\n",
        "  + TEMP_MEMB_NO : 비회원 번호\n",
        "  + BIKE_TAG : 자전거 번호"
      ]
    },
    {
      "cell_type": "code",
      "metadata": {
        "id": "9jaIfrH9gWw6",
        "colab_type": "code",
        "colab": {
          "base_uri": "https://localhost:8080/",
          "height": 394
        },
        "outputId": "3bfed853-df4f-4aa8-c690-97282d355996"
      },
      "source": [
        "df_1.head()"
      ],
      "execution_count": 10,
      "outputs": [
        {
          "output_type": "execute_result",
          "data": {
            "text/html": [
              "<div>\n",
              "<style scoped>\n",
              "    .dataframe tbody tr th:only-of-type {\n",
              "        vertical-align: middle;\n",
              "    }\n",
              "\n",
              "    .dataframe tbody tr th {\n",
              "        vertical-align: top;\n",
              "    }\n",
              "\n",
              "    .dataframe thead th {\n",
              "        text-align: right;\n",
              "    }\n",
              "</style>\n",
              "<table border=\"1\" class=\"dataframe\">\n",
              "  <thead>\n",
              "    <tr style=\"text-align: right;\">\n",
              "      <th></th>\n",
              "      <th>LEAS_NO</th>\n",
              "      <th>LEAS_STAT</th>\n",
              "      <th>LEAS_DATE</th>\n",
              "      <th>LEAS_STATION</th>\n",
              "      <th>LEAS_DEF_NO</th>\n",
              "      <th>RTN_DATE</th>\n",
              "      <th>RTN_STATION</th>\n",
              "      <th>RTN_DEF_NO</th>\n",
              "      <th>TRNV_QTY</th>\n",
              "      <th>MEMB_DIV</th>\n",
              "      <th>MEMB_NO</th>\n",
              "      <th>TEMP_MEMB_NO</th>\n",
              "      <th>BIKE_TAG</th>\n",
              "      <th>RTN_PROCESS</th>\n",
              "    </tr>\n",
              "  </thead>\n",
              "  <tbody>\n",
              "    <tr>\n",
              "      <th>0</th>\n",
              "      <td>15945541</td>\n",
              "      <td>2</td>\n",
              "      <td>2017-01-01 00:00:41</td>\n",
              "      <td>213</td>\n",
              "      <td>18</td>\n",
              "      <td>2017-01-01 00:13:52</td>\n",
              "      <td>260</td>\n",
              "      <td>17</td>\n",
              "      <td>0.0</td>\n",
              "      <td>6</td>\n",
              "      <td>164203</td>\n",
              "      <td>0.0</td>\n",
              "      <td>1A844000000BB7</td>\n",
              "      <td>NaN</td>\n",
              "    </tr>\n",
              "    <tr>\n",
              "      <th>1</th>\n",
              "      <td>15945542</td>\n",
              "      <td>2</td>\n",
              "      <td>2017-01-01 00:01:03</td>\n",
              "      <td>231</td>\n",
              "      <td>4</td>\n",
              "      <td>2017-01-01 00:50:24</td>\n",
              "      <td>231</td>\n",
              "      <td>17</td>\n",
              "      <td>31039.0</td>\n",
              "      <td>1</td>\n",
              "      <td>187551</td>\n",
              "      <td>0.0</td>\n",
              "      <td>1A844000000494</td>\n",
              "      <td>NaN</td>\n",
              "    </tr>\n",
              "    <tr>\n",
              "      <th>2</th>\n",
              "      <td>15945543</td>\n",
              "      <td>2</td>\n",
              "      <td>2017-01-01 00:01:50</td>\n",
              "      <td>119</td>\n",
              "      <td>14</td>\n",
              "      <td>2017-01-01 01:01:50</td>\n",
              "      <td>0</td>\n",
              "      <td>0</td>\n",
              "      <td>NaN</td>\n",
              "      <td>12</td>\n",
              "      <td>168994</td>\n",
              "      <td>0.0</td>\n",
              "      <td>1A844000000533</td>\n",
              "      <td>1.0</td>\n",
              "    </tr>\n",
              "    <tr>\n",
              "      <th>3</th>\n",
              "      <td>15945544</td>\n",
              "      <td>2</td>\n",
              "      <td>2017-01-01 00:02:09</td>\n",
              "      <td>121</td>\n",
              "      <td>17</td>\n",
              "      <td>2017-01-01 00:15:58</td>\n",
              "      <td>133</td>\n",
              "      <td>14</td>\n",
              "      <td>15490.0</td>\n",
              "      <td>12</td>\n",
              "      <td>183971</td>\n",
              "      <td>0.0</td>\n",
              "      <td>1A844000000731</td>\n",
              "      <td>NaN</td>\n",
              "    </tr>\n",
              "    <tr>\n",
              "      <th>4</th>\n",
              "      <td>15945545</td>\n",
              "      <td>2</td>\n",
              "      <td>2017-01-01 00:03:32</td>\n",
              "      <td>320</td>\n",
              "      <td>29</td>\n",
              "      <td>2017-01-01 00:18:44</td>\n",
              "      <td>259</td>\n",
              "      <td>27</td>\n",
              "      <td>0.0</td>\n",
              "      <td>12</td>\n",
              "      <td>167475</td>\n",
              "      <td>0.0</td>\n",
              "      <td>1A84400000F343</td>\n",
              "      <td>NaN</td>\n",
              "    </tr>\n",
              "  </tbody>\n",
              "</table>\n",
              "</div>"
            ],
            "text/plain": [
              "    LEAS_NO  LEAS_STAT  ...        BIKE_TAG  RTN_PROCESS\n",
              "0  15945541          2  ...  1A844000000BB7          NaN\n",
              "1  15945542          2  ...  1A844000000494          NaN\n",
              "2  15945543          2  ...  1A844000000533          1.0\n",
              "3  15945544          2  ...  1A844000000731          NaN\n",
              "4  15945545          2  ...  1A84400000F343          NaN\n",
              "\n",
              "[5 rows x 14 columns]"
            ]
          },
          "metadata": {
            "tags": []
          },
          "execution_count": 10
        }
      ]
    },
    {
      "cell_type": "markdown",
      "metadata": {
        "id": "4A81OvmXgQgr",
        "colab_type": "text"
      },
      "source": [
        "- 데이터 결측치 확인"
      ]
    },
    {
      "cell_type": "code",
      "metadata": {
        "id": "r6jGNDROJJz8",
        "colab_type": "code",
        "colab": {
          "base_uri": "https://localhost:8080/",
          "height": 352
        },
        "outputId": "c7d3cbdc-04eb-480c-fd67-8f7ec5be43b5"
      },
      "source": [
        "msno.matrix(df_1)\n",
        "plt.show()"
      ],
      "execution_count": 9,
      "outputs": [
        {
          "output_type": "stream",
          "text": [
            "findfont: Font family ['NanumGothic'] not found. Falling back to DejaVu Sans.\n",
            "findfont: Font family ['NanumGothic'] not found. Falling back to DejaVu Sans.\n",
            "findfont: Font family ['NanumGothic'] not found. Falling back to DejaVu Sans.\n"
          ],
          "name": "stderr"
        },
        {
          "output_type": "display_data",
          "data": {
            "image/png": "[encoded data removed]",
            "text/plain": [
              "<Figure size 1800x720 with 2 Axes>"
            ]
          },
          "metadata": {
            "tags": [],
            "needs_background": "light"
          }
        }
      ]
    },
    {
      "cell_type": "markdown",
      "metadata": {
        "id": "vSAV-yjJhTIK",
        "colab_type": "text"
      },
      "source": [
        "- TRNV_QTY(추정 이동 거리) 값과 RTN_PROCESS(관제반납구분) 값의 데이터에 결측치가 상당수 존재하는 것을 확인할 수 있다. "
      ]
    },
    {
      "cell_type": "markdown",
      "metadata": {
        "id": "c1O_rC2PkYd2",
        "colab_type": "text"
      },
      "source": [
        "### (6).1 스테이션 월별 사용량"
      ]
    },
    {
      "cell_type": "markdown",
      "metadata": {
        "id": "4sse-FYRhskS",
        "colab_type": "text"
      },
      "source": [
        "- 대여 일시와 반납 일시로부터 월별 데이터를 추출한다."
      ]
    },
    {
      "cell_type": "code",
      "metadata": {
        "id": "5vtoUsQ2OTrz",
        "colab_type": "code",
        "colab": {
          "base_uri": "https://localhost:8080/",
          "height": 394
        },
        "outputId": "55788827-e6a3-466e-c8c3-5d8317a2db02"
      },
      "source": [
        "#대여 일시를 월별로 분류\n",
        "df_1['LEAS_MONTH_ONLY']= df_1['LEAS_DATE'].map(lambda x: x.split(' ')[0][:-3])\n",
        "\n",
        "#반납 일시를 월별로 분류\n",
        "df_1['RTN_MONTH_ONLY']= df_1['RTN_DATE'].map(lambda x: x.split(' ')[0][:-3])\n",
        "df_1.head()"
      ],
      "execution_count": 11,
      "outputs": [
        {
          "output_type": "execute_result",
          "data": {
            "text/html": [
              "<div>\n",
              "<style scoped>\n",
              "    .dataframe tbody tr th:only-of-type {\n",
              "        vertical-align: middle;\n",
              "    }\n",
              "\n",
              "    .dataframe tbody tr th {\n",
              "        vertical-align: top;\n",
              "    }\n",
              "\n",
              "    .dataframe thead th {\n",
              "        text-align: right;\n",
              "    }\n",
              "</style>\n",
              "<table border=\"1\" class=\"dataframe\">\n",
              "  <thead>\n",
              "    <tr style=\"text-align: right;\">\n",
              "      <th></th>\n",
              "      <th>LEAS_NO</th>\n",
              "      <th>LEAS_STAT</th>\n",
              "      <th>LEAS_DATE</th>\n",
              "      <th>LEAS_STATION</th>\n",
              "      <th>LEAS_DEF_NO</th>\n",
              "      <th>RTN_DATE</th>\n",
              "      <th>RTN_STATION</th>\n",
              "      <th>RTN_DEF_NO</th>\n",
              "      <th>TRNV_QTY</th>\n",
              "      <th>MEMB_DIV</th>\n",
              "      <th>MEMB_NO</th>\n",
              "      <th>TEMP_MEMB_NO</th>\n",
              "      <th>BIKE_TAG</th>\n",
              "      <th>RTN_PROCESS</th>\n",
              "      <th>LEAS_MONTH_ONLY</th>\n",
              "      <th>RTN_MONTH_ONLY</th>\n",
              "    </tr>\n",
              "  </thead>\n",
              "  <tbody>\n",
              "    <tr>\n",
              "      <th>0</th>\n",
              "      <td>15945541</td>\n",
              "      <td>2</td>\n",
              "      <td>2017-01-01 00:00:41</td>\n",
              "      <td>213</td>\n",
              "      <td>18</td>\n",
              "      <td>2017-01-01 00:13:52</td>\n",
              "      <td>260</td>\n",
              "      <td>17</td>\n",
              "      <td>0.0</td>\n",
              "      <td>6</td>\n",
              "      <td>164203</td>\n",
              "      <td>0.0</td>\n",
              "      <td>1A844000000BB7</td>\n",
              "      <td>NaN</td>\n",
              "      <td>2017-01</td>\n",
              "      <td>2017-01</td>\n",
              "    </tr>\n",
              "    <tr>\n",
              "      <th>1</th>\n",
              "      <td>15945542</td>\n",
              "      <td>2</td>\n",
              "      <td>2017-01-01 00:01:03</td>\n",
              "      <td>231</td>\n",
              "      <td>4</td>\n",
              "      <td>2017-01-01 00:50:24</td>\n",
              "      <td>231</td>\n",
              "      <td>17</td>\n",
              "      <td>31039.0</td>\n",
              "      <td>1</td>\n",
              "      <td>187551</td>\n",
              "      <td>0.0</td>\n",
              "      <td>1A844000000494</td>\n",
              "      <td>NaN</td>\n",
              "      <td>2017-01</td>\n",
              "      <td>2017-01</td>\n",
              "    </tr>\n",
              "    <tr>\n",
              "      <th>2</th>\n",
              "      <td>15945543</td>\n",
              "      <td>2</td>\n",
              "      <td>2017-01-01 00:01:50</td>\n",
              "      <td>119</td>\n",
              "      <td>14</td>\n",
              "      <td>2017-01-01 01:01:50</td>\n",
              "      <td>0</td>\n",
              "      <td>0</td>\n",
              "      <td>NaN</td>\n",
              "      <td>12</td>\n",
              "      <td>168994</td>\n",
              "      <td>0.0</td>\n",
              "      <td>1A844000000533</td>\n",
              "      <td>1.0</td>\n",
              "      <td>2017-01</td>\n",
              "      <td>2017-01</td>\n",
              "    </tr>\n",
              "    <tr>\n",
              "      <th>3</th>\n",
              "      <td>15945544</td>\n",
              "      <td>2</td>\n",
              "      <td>2017-01-01 00:02:09</td>\n",
              "      <td>121</td>\n",
              "      <td>17</td>\n",
              "      <td>2017-01-01 00:15:58</td>\n",
              "      <td>133</td>\n",
              "      <td>14</td>\n",
              "      <td>15490.0</td>\n",
              "      <td>12</td>\n",
              "      <td>183971</td>\n",
              "      <td>0.0</td>\n",
              "      <td>1A844000000731</td>\n",
              "      <td>NaN</td>\n",
              "      <td>2017-01</td>\n",
              "      <td>2017-01</td>\n",
              "    </tr>\n",
              "    <tr>\n",
              "      <th>4</th>\n",
              "      <td>15945545</td>\n",
              "      <td>2</td>\n",
              "      <td>2017-01-01 00:03:32</td>\n",
              "      <td>320</td>\n",
              "      <td>29</td>\n",
              "      <td>2017-01-01 00:18:44</td>\n",
              "      <td>259</td>\n",
              "      <td>27</td>\n",
              "      <td>0.0</td>\n",
              "      <td>12</td>\n",
              "      <td>167475</td>\n",
              "      <td>0.0</td>\n",
              "      <td>1A84400000F343</td>\n",
              "      <td>NaN</td>\n",
              "      <td>2017-01</td>\n",
              "      <td>2017-01</td>\n",
              "    </tr>\n",
              "  </tbody>\n",
              "</table>\n",
              "</div>"
            ],
            "text/plain": [
              "    LEAS_NO  LEAS_STAT  ... LEAS_MONTH_ONLY  RTN_MONTH_ONLY\n",
              "0  15945541          2  ...         2017-01         2017-01\n",
              "1  15945542          2  ...         2017-01         2017-01\n",
              "2  15945543          2  ...         2017-01         2017-01\n",
              "3  15945544          2  ...         2017-01         2017-01\n",
              "4  15945545          2  ...         2017-01         2017-01\n",
              "\n",
              "[5 rows x 16 columns]"
            ]
          },
          "metadata": {
            "tags": []
          },
          "execution_count": 11
        }
      ]
    },
    {
      "cell_type": "markdown",
      "metadata": {
        "id": "8vb1Cx8KiPUJ",
        "colab_type": "text"
      },
      "source": [
        "- LEAS_STATION, RTN_STATION 데이터 중 '0, 999, 998, 992'는 제외하도록 한다.\n",
        "  - 제외하는 이유는 다음과 같다.\n",
        "    - 수리로 인해 스테이션 반납이 아닌 관제 센터로 반납된 경우\n",
        "    - 분실로 인해 반납이 이뤄지지 않은 경우\n",
        "    - 내부 테스트를 위해 가상으로 등록된 데이터인 경우"
      ]
    },
    {
      "cell_type": "code",
      "metadata": {
        "id": "cCpBiIj7h9bJ",
        "colab_type": "code",
        "colab": {
          "base_uri": "https://localhost:8080/",
          "height": 394
        },
        "outputId": "9883758d-1e9e-4f2b-acca-db2717b42ab5"
      },
      "source": [
        "# 반납 스테이션 0, 999, 998 제외\n",
        "case = df_1['RTN_STATION'].isin([0, 999, 998, 992])\n",
        "df_1_copy=df_1[~case]\n",
        "df_1_copy.head()"
      ],
      "execution_count": 14,
      "outputs": [
        {
          "output_type": "execute_result",
          "data": {
            "text/html": [
              "<div>\n",
              "<style scoped>\n",
              "    .dataframe tbody tr th:only-of-type {\n",
              "        vertical-align: middle;\n",
              "    }\n",
              "\n",
              "    .dataframe tbody tr th {\n",
              "        vertical-align: top;\n",
              "    }\n",
              "\n",
              "    .dataframe thead th {\n",
              "        text-align: right;\n",
              "    }\n",
              "</style>\n",
              "<table border=\"1\" class=\"dataframe\">\n",
              "  <thead>\n",
              "    <tr style=\"text-align: right;\">\n",
              "      <th></th>\n",
              "      <th>LEAS_NO</th>\n",
              "      <th>LEAS_STAT</th>\n",
              "      <th>LEAS_DATE</th>\n",
              "      <th>LEAS_STATION</th>\n",
              "      <th>LEAS_DEF_NO</th>\n",
              "      <th>RTN_DATE</th>\n",
              "      <th>RTN_STATION</th>\n",
              "      <th>RTN_DEF_NO</th>\n",
              "      <th>TRNV_QTY</th>\n",
              "      <th>MEMB_DIV</th>\n",
              "      <th>MEMB_NO</th>\n",
              "      <th>TEMP_MEMB_NO</th>\n",
              "      <th>BIKE_TAG</th>\n",
              "      <th>RTN_PROCESS</th>\n",
              "      <th>LEAS_MONTH_ONLY</th>\n",
              "      <th>RTN_MONTH_ONLY</th>\n",
              "    </tr>\n",
              "  </thead>\n",
              "  <tbody>\n",
              "    <tr>\n",
              "      <th>0</th>\n",
              "      <td>15945541</td>\n",
              "      <td>2</td>\n",
              "      <td>2017-01-01 00:00:41</td>\n",
              "      <td>213</td>\n",
              "      <td>18</td>\n",
              "      <td>2017-01-01 00:13:52</td>\n",
              "      <td>260</td>\n",
              "      <td>17</td>\n",
              "      <td>0.0</td>\n",
              "      <td>6</td>\n",
              "      <td>164203</td>\n",
              "      <td>0.0</td>\n",
              "      <td>1A844000000BB7</td>\n",
              "      <td>NaN</td>\n",
              "      <td>2017-01</td>\n",
              "      <td>2017-01</td>\n",
              "    </tr>\n",
              "    <tr>\n",
              "      <th>1</th>\n",
              "      <td>15945542</td>\n",
              "      <td>2</td>\n",
              "      <td>2017-01-01 00:01:03</td>\n",
              "      <td>231</td>\n",
              "      <td>4</td>\n",
              "      <td>2017-01-01 00:50:24</td>\n",
              "      <td>231</td>\n",
              "      <td>17</td>\n",
              "      <td>31039.0</td>\n",
              "      <td>1</td>\n",
              "      <td>187551</td>\n",
              "      <td>0.0</td>\n",
              "      <td>1A844000000494</td>\n",
              "      <td>NaN</td>\n",
              "      <td>2017-01</td>\n",
              "      <td>2017-01</td>\n",
              "    </tr>\n",
              "    <tr>\n",
              "      <th>3</th>\n",
              "      <td>15945544</td>\n",
              "      <td>2</td>\n",
              "      <td>2017-01-01 00:02:09</td>\n",
              "      <td>121</td>\n",
              "      <td>17</td>\n",
              "      <td>2017-01-01 00:15:58</td>\n",
              "      <td>133</td>\n",
              "      <td>14</td>\n",
              "      <td>15490.0</td>\n",
              "      <td>12</td>\n",
              "      <td>183971</td>\n",
              "      <td>0.0</td>\n",
              "      <td>1A844000000731</td>\n",
              "      <td>NaN</td>\n",
              "      <td>2017-01</td>\n",
              "      <td>2017-01</td>\n",
              "    </tr>\n",
              "    <tr>\n",
              "      <th>4</th>\n",
              "      <td>15945545</td>\n",
              "      <td>2</td>\n",
              "      <td>2017-01-01 00:03:32</td>\n",
              "      <td>320</td>\n",
              "      <td>29</td>\n",
              "      <td>2017-01-01 00:18:44</td>\n",
              "      <td>259</td>\n",
              "      <td>27</td>\n",
              "      <td>0.0</td>\n",
              "      <td>12</td>\n",
              "      <td>167475</td>\n",
              "      <td>0.0</td>\n",
              "      <td>1A84400000F343</td>\n",
              "      <td>NaN</td>\n",
              "      <td>2017-01</td>\n",
              "      <td>2017-01</td>\n",
              "    </tr>\n",
              "    <tr>\n",
              "      <th>5</th>\n",
              "      <td>15945546</td>\n",
              "      <td>2</td>\n",
              "      <td>2017-01-01 00:03:40</td>\n",
              "      <td>309</td>\n",
              "      <td>8</td>\n",
              "      <td>2017-01-01 00:10:50</td>\n",
              "      <td>210</td>\n",
              "      <td>3</td>\n",
              "      <td>0.0</td>\n",
              "      <td>99</td>\n",
              "      <td>0</td>\n",
              "      <td>3185081.0</td>\n",
              "      <td>1A84400000F505</td>\n",
              "      <td>NaN</td>\n",
              "      <td>2017-01</td>\n",
              "      <td>2017-01</td>\n",
              "    </tr>\n",
              "  </tbody>\n",
              "</table>\n",
              "</div>"
            ],
            "text/plain": [
              "    LEAS_NO  LEAS_STAT  ... LEAS_MONTH_ONLY  RTN_MONTH_ONLY\n",
              "0  15945541          2  ...         2017-01         2017-01\n",
              "1  15945542          2  ...         2017-01         2017-01\n",
              "3  15945544          2  ...         2017-01         2017-01\n",
              "4  15945545          2  ...         2017-01         2017-01\n",
              "5  15945546          2  ...         2017-01         2017-01\n",
              "\n",
              "[5 rows x 16 columns]"
            ]
          },
          "metadata": {
            "tags": []
          },
          "execution_count": 14
        }
      ]
    },
    {
      "cell_type": "markdown",
      "metadata": {
        "id": "o_wp9FRpj_CI",
        "colab_type": "text"
      },
      "source": [
        "- 대여(스테이션, 월별) 횟수를 확인한다."
      ]
    },
    {
      "cell_type": "code",
      "metadata": {
        "id": "6xhnpjgijfj8",
        "colab_type": "code",
        "colab": {
          "base_uri": "https://localhost:8080/",
          "height": 419
        },
        "outputId": "42171fa3-94ed-4a2a-9d48-1fe53dd9410b"
      },
      "source": [
        "leas_count=df_1_copy.groupby(['LEAS_STATION', 'LEAS_MONTH_ONLY']).count().max(axis=1).reset_index()\n",
        "leas_count.columns=['Station_ID','DATE','LEAS_COUNT']\n",
        "leas_count"
      ],
      "execution_count": 15,
      "outputs": [
        {
          "output_type": "execute_result",
          "data": {
            "text/html": [
              "<div>\n",
              "<style scoped>\n",
              "    .dataframe tbody tr th:only-of-type {\n",
              "        vertical-align: middle;\n",
              "    }\n",
              "\n",
              "    .dataframe tbody tr th {\n",
              "        vertical-align: top;\n",
              "    }\n",
              "\n",
              "    .dataframe thead th {\n",
              "        text-align: right;\n",
              "    }\n",
              "</style>\n",
              "<table border=\"1\" class=\"dataframe\">\n",
              "  <thead>\n",
              "    <tr style=\"text-align: right;\">\n",
              "      <th></th>\n",
              "      <th>Station_ID</th>\n",
              "      <th>DATE</th>\n",
              "      <th>LEAS_COUNT</th>\n",
              "    </tr>\n",
              "  </thead>\n",
              "  <tbody>\n",
              "    <tr>\n",
              "      <th>0</th>\n",
              "      <td>101</td>\n",
              "      <td>2017-01</td>\n",
              "      <td>73</td>\n",
              "    </tr>\n",
              "    <tr>\n",
              "      <th>1</th>\n",
              "      <td>101</td>\n",
              "      <td>2017-02</td>\n",
              "      <td>68</td>\n",
              "    </tr>\n",
              "    <tr>\n",
              "      <th>2</th>\n",
              "      <td>101</td>\n",
              "      <td>2017-03</td>\n",
              "      <td>186</td>\n",
              "    </tr>\n",
              "    <tr>\n",
              "      <th>3</th>\n",
              "      <td>101</td>\n",
              "      <td>2017-04</td>\n",
              "      <td>282</td>\n",
              "    </tr>\n",
              "    <tr>\n",
              "      <th>4</th>\n",
              "      <td>101</td>\n",
              "      <td>2017-05</td>\n",
              "      <td>385</td>\n",
              "    </tr>\n",
              "    <tr>\n",
              "      <th>...</th>\n",
              "      <td>...</td>\n",
              "      <td>...</td>\n",
              "      <td>...</td>\n",
              "    </tr>\n",
              "    <tr>\n",
              "      <th>5379</th>\n",
              "      <td>992</td>\n",
              "      <td>2019-08</td>\n",
              "      <td>34</td>\n",
              "    </tr>\n",
              "    <tr>\n",
              "      <th>5380</th>\n",
              "      <td>992</td>\n",
              "      <td>2019-09</td>\n",
              "      <td>27</td>\n",
              "    </tr>\n",
              "    <tr>\n",
              "      <th>5381</th>\n",
              "      <td>992</td>\n",
              "      <td>2019-10</td>\n",
              "      <td>12</td>\n",
              "    </tr>\n",
              "    <tr>\n",
              "      <th>5382</th>\n",
              "      <td>992</td>\n",
              "      <td>2019-11</td>\n",
              "      <td>21</td>\n",
              "    </tr>\n",
              "    <tr>\n",
              "      <th>5383</th>\n",
              "      <td>992</td>\n",
              "      <td>2019-12</td>\n",
              "      <td>15</td>\n",
              "    </tr>\n",
              "  </tbody>\n",
              "</table>\n",
              "<p>5384 rows × 3 columns</p>\n",
              "</div>"
            ],
            "text/plain": [
              "      Station_ID     DATE  LEAS_COUNT\n",
              "0            101  2017-01          73\n",
              "1            101  2017-02          68\n",
              "2            101  2017-03         186\n",
              "3            101  2017-04         282\n",
              "4            101  2017-05         385\n",
              "...          ...      ...         ...\n",
              "5379         992  2019-08          34\n",
              "5380         992  2019-09          27\n",
              "5381         992  2019-10          12\n",
              "5382         992  2019-11          21\n",
              "5383         992  2019-12          15\n",
              "\n",
              "[5384 rows x 3 columns]"
            ]
          },
          "metadata": {
            "tags": []
          },
          "execution_count": 15
        }
      ]
    },
    {
      "cell_type": "markdown",
      "metadata": {
        "id": "iBPMGiAEk3o_",
        "colab_type": "text"
      },
      "source": [
        "- 반납(스테이션, 월별) 횟수를 확인한다."
      ]
    },
    {
      "cell_type": "code",
      "metadata": {
        "id": "BKmeegexkFrS",
        "colab_type": "code",
        "colab": {
          "base_uri": "https://localhost:8080/",
          "height": 419
        },
        "outputId": "b94ccda5-ebe1-4a42-c889-33a5371f7552"
      },
      "source": [
        "rtn_count=df_1_copy.groupby(['RTN_STATION', 'RTN_MONTH_ONLY']).count().max(axis=1).reset_index()\n",
        "rtn_count.columns=['Station_ID','DATE','RTN_COUNT']\n",
        "rtn_count"
      ],
      "execution_count": 16,
      "outputs": [
        {
          "output_type": "execute_result",
          "data": {
            "text/html": [
              "<div>\n",
              "<style scoped>\n",
              "    .dataframe tbody tr th:only-of-type {\n",
              "        vertical-align: middle;\n",
              "    }\n",
              "\n",
              "    .dataframe tbody tr th {\n",
              "        vertical-align: top;\n",
              "    }\n",
              "\n",
              "    .dataframe thead th {\n",
              "        text-align: right;\n",
              "    }\n",
              "</style>\n",
              "<table border=\"1\" class=\"dataframe\">\n",
              "  <thead>\n",
              "    <tr style=\"text-align: right;\">\n",
              "      <th></th>\n",
              "      <th>Station_ID</th>\n",
              "      <th>DATE</th>\n",
              "      <th>RTN_COUNT</th>\n",
              "    </tr>\n",
              "  </thead>\n",
              "  <tbody>\n",
              "    <tr>\n",
              "      <th>0</th>\n",
              "      <td>101</td>\n",
              "      <td>2017-01</td>\n",
              "      <td>109</td>\n",
              "    </tr>\n",
              "    <tr>\n",
              "      <th>1</th>\n",
              "      <td>101</td>\n",
              "      <td>2017-02</td>\n",
              "      <td>89</td>\n",
              "    </tr>\n",
              "    <tr>\n",
              "      <th>2</th>\n",
              "      <td>101</td>\n",
              "      <td>2017-03</td>\n",
              "      <td>204</td>\n",
              "    </tr>\n",
              "    <tr>\n",
              "      <th>3</th>\n",
              "      <td>101</td>\n",
              "      <td>2017-04</td>\n",
              "      <td>372</td>\n",
              "    </tr>\n",
              "    <tr>\n",
              "      <th>4</th>\n",
              "      <td>101</td>\n",
              "      <td>2017-05</td>\n",
              "      <td>500</td>\n",
              "    </tr>\n",
              "    <tr>\n",
              "      <th>...</th>\n",
              "      <td>...</td>\n",
              "      <td>...</td>\n",
              "      <td>...</td>\n",
              "    </tr>\n",
              "    <tr>\n",
              "      <th>5348</th>\n",
              "      <td>350</td>\n",
              "      <td>2019-12</td>\n",
              "      <td>37</td>\n",
              "    </tr>\n",
              "    <tr>\n",
              "      <th>5349</th>\n",
              "      <td>351</td>\n",
              "      <td>2019-09</td>\n",
              "      <td>5</td>\n",
              "    </tr>\n",
              "    <tr>\n",
              "      <th>5350</th>\n",
              "      <td>351</td>\n",
              "      <td>2019-10</td>\n",
              "      <td>112</td>\n",
              "    </tr>\n",
              "    <tr>\n",
              "      <th>5351</th>\n",
              "      <td>351</td>\n",
              "      <td>2019-11</td>\n",
              "      <td>140</td>\n",
              "    </tr>\n",
              "    <tr>\n",
              "      <th>5352</th>\n",
              "      <td>351</td>\n",
              "      <td>2019-12</td>\n",
              "      <td>149</td>\n",
              "    </tr>\n",
              "  </tbody>\n",
              "</table>\n",
              "<p>5353 rows × 3 columns</p>\n",
              "</div>"
            ],
            "text/plain": [
              "      Station_ID     DATE  RTN_COUNT\n",
              "0            101  2017-01        109\n",
              "1            101  2017-02         89\n",
              "2            101  2017-03        204\n",
              "3            101  2017-04        372\n",
              "4            101  2017-05        500\n",
              "...          ...      ...        ...\n",
              "5348         350  2019-12         37\n",
              "5349         351  2019-09          5\n",
              "5350         351  2019-10        112\n",
              "5351         351  2019-11        140\n",
              "5352         351  2019-12        149\n",
              "\n",
              "[5353 rows x 3 columns]"
            ]
          },
          "metadata": {
            "tags": []
          },
          "execution_count": 16
        }
      ]
    },
    {
      "cell_type": "markdown",
      "metadata": {
        "id": "6HqbN_Q4lF47",
        "colab_type": "text"
      },
      "source": [
        "- 하나의 데이터프레임으로 묶어주도록 한다."
      ]
    },
    {
      "cell_type": "code",
      "metadata": {
        "id": "GtRF4kr4k1QV",
        "colab_type": "code",
        "colab": {}
      },
      "source": [
        "# 전 데이터를 불러와야함...... 이 부분은 다시 추가하도록 해야겠다.\n",
        "station_leas_rtn=pd.merge(leas_count,station[['Station_ID','gu','dong','STATION_NAME']],on='Station_ID',how='left')\n",
        "station_leas_rtn=pd.merge(station_leas_rtn,rtn_count,on=['Station_ID','DATE'],how='left')\n",
        "station_leas_rtn=station_leas_rtn[['gu','dong','Station_ID','DATE','LEAS_COUNT','RTN_COUNT']]\n",
        "station_leas_rtn"
      ],
      "execution_count": null,
      "outputs": []
    },
    {
      "cell_type": "code",
      "metadata": {
        "id": "vGn52vSwlRzk",
        "colab_type": "code",
        "colab": {}
      },
      "source": [
        ""
      ],
      "execution_count": null,
      "outputs": []
    }
  ]
}